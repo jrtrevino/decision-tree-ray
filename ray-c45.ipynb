{
 "cells": [
  {
   "cell_type": "markdown",
   "id": "2ec7bce4",
   "metadata": {},
   "source": [
    "# Decision Tree Classification in Parallel\n",
    "\n",
    "This notebook demonstrates basic functionality for parallelizing decision tree classification using the Ray library in Python."
   ]
  },
  {
   "cell_type": "markdown",
   "id": "55c07303",
   "metadata": {},
   "source": [
    "## Setup Ray Wrapper"
   ]
  },
  {
   "cell_type": "markdown",
   "id": "823e404f",
   "metadata": {},
   "source": [
    "#### Install ray if desired"
   ]
  },
  {
   "cell_type": "code",
   "execution_count": null,
   "id": "7b5bedf1",
   "metadata": {},
   "outputs": [],
   "source": [
    "import sys\n",
    "!{sys.executable} -m pip install ray"
   ]
  },
  {
   "cell_type": "markdown",
   "id": "ab534688",
   "metadata": {},
   "source": [
    "#### Initialize Ray. Number of cores can be specified."
   ]
  },
  {
   "cell_type": "code",
   "execution_count": 1,
   "id": "10bf6703",
   "metadata": {},
   "outputs": [
    {
     "data": {
      "text/plain": [
       "{'node_ip_address': '127.0.0.1',\n",
       " 'raylet_ip_address': '127.0.0.1',\n",
       " 'redis_address': '127.0.0.1:6379',\n",
       " 'object_store_address': '/tmp/ray/session_2021-11-25_09-59-53_770709_747/sockets/plasma_store',\n",
       " 'raylet_socket_name': '/tmp/ray/session_2021-11-25_09-59-53_770709_747/sockets/raylet',\n",
       " 'webui_url': None,\n",
       " 'session_dir': '/tmp/ray/session_2021-11-25_09-59-53_770709_747',\n",
       " 'metrics_export_port': 52855,\n",
       " 'node_id': '8ec3faf19d65473646a79ce6ca9b8b87d5c54a8b7ae0eb69de1f0ba1'}"
      ]
     },
     "execution_count": 1,
     "metadata": {},
     "output_type": "execute_result"
    }
   ],
   "source": [
    "import ray\n",
    "ray.init()"
   ]
  },
  {
   "cell_type": "markdown",
   "id": "1a29aacf",
   "metadata": {},
   "source": [
    "## Obtain our data\n",
    "\n",
    "To use decision tree classification, we must obtain a dataset designed for classification. For our purposes,\n",
    "we are using the abalone dataset found on the UCI repository page for machine learning.\n",
    "\n",
    "We also have code written that generates a decision tree. First, we must obtain a dataframe and a dictionary of attributes to help our classification."
   ]
  },
  {
   "cell_type": "code",
   "execution_count": 2,
   "id": "c6fbad99",
   "metadata": {},
   "outputs": [
    {
     "data": {
      "text/html": [
       "<div>\n",
       "<style scoped>\n",
       "    .dataframe tbody tr th:only-of-type {\n",
       "        vertical-align: middle;\n",
       "    }\n",
       "\n",
       "    .dataframe tbody tr th {\n",
       "        vertical-align: top;\n",
       "    }\n",
       "\n",
       "    .dataframe thead th {\n",
       "        text-align: right;\n",
       "    }\n",
       "</style>\n",
       "<table border=\"1\" class=\"dataframe\">\n",
       "  <thead>\n",
       "    <tr style=\"text-align: right;\">\n",
       "      <th></th>\n",
       "      <th>Sex</th>\n",
       "      <th>Length</th>\n",
       "      <th>Diameter</th>\n",
       "      <th>Height</th>\n",
       "      <th>WW</th>\n",
       "      <th>SW</th>\n",
       "      <th>VW</th>\n",
       "      <th>SW.1</th>\n",
       "      <th>Rings</th>\n",
       "    </tr>\n",
       "  </thead>\n",
       "  <tbody>\n",
       "    <tr>\n",
       "      <th>2</th>\n",
       "      <td>M</td>\n",
       "      <td>0.455</td>\n",
       "      <td>0.365</td>\n",
       "      <td>0.095</td>\n",
       "      <td>0.5140</td>\n",
       "      <td>0.2245</td>\n",
       "      <td>0.1010</td>\n",
       "      <td>0.1500</td>\n",
       "      <td>15.0</td>\n",
       "    </tr>\n",
       "    <tr>\n",
       "      <th>3</th>\n",
       "      <td>M</td>\n",
       "      <td>0.350</td>\n",
       "      <td>0.265</td>\n",
       "      <td>0.090</td>\n",
       "      <td>0.2255</td>\n",
       "      <td>0.0995</td>\n",
       "      <td>0.0485</td>\n",
       "      <td>0.0700</td>\n",
       "      <td>7.0</td>\n",
       "    </tr>\n",
       "    <tr>\n",
       "      <th>4</th>\n",
       "      <td>F</td>\n",
       "      <td>0.530</td>\n",
       "      <td>0.420</td>\n",
       "      <td>0.135</td>\n",
       "      <td>0.6770</td>\n",
       "      <td>0.2565</td>\n",
       "      <td>0.1415</td>\n",
       "      <td>0.2100</td>\n",
       "      <td>9.0</td>\n",
       "    </tr>\n",
       "    <tr>\n",
       "      <th>5</th>\n",
       "      <td>M</td>\n",
       "      <td>0.440</td>\n",
       "      <td>0.365</td>\n",
       "      <td>0.125</td>\n",
       "      <td>0.5160</td>\n",
       "      <td>0.2155</td>\n",
       "      <td>0.1140</td>\n",
       "      <td>0.1550</td>\n",
       "      <td>10.0</td>\n",
       "    </tr>\n",
       "    <tr>\n",
       "      <th>6</th>\n",
       "      <td>I</td>\n",
       "      <td>0.330</td>\n",
       "      <td>0.255</td>\n",
       "      <td>0.080</td>\n",
       "      <td>0.2050</td>\n",
       "      <td>0.0895</td>\n",
       "      <td>0.0395</td>\n",
       "      <td>0.0550</td>\n",
       "      <td>7.0</td>\n",
       "    </tr>\n",
       "    <tr>\n",
       "      <th>...</th>\n",
       "      <td>...</td>\n",
       "      <td>...</td>\n",
       "      <td>...</td>\n",
       "      <td>...</td>\n",
       "      <td>...</td>\n",
       "      <td>...</td>\n",
       "      <td>...</td>\n",
       "      <td>...</td>\n",
       "      <td>...</td>\n",
       "    </tr>\n",
       "    <tr>\n",
       "      <th>4174</th>\n",
       "      <td>F</td>\n",
       "      <td>0.565</td>\n",
       "      <td>0.450</td>\n",
       "      <td>0.165</td>\n",
       "      <td>0.8870</td>\n",
       "      <td>0.3700</td>\n",
       "      <td>0.2390</td>\n",
       "      <td>0.2490</td>\n",
       "      <td>11.0</td>\n",
       "    </tr>\n",
       "    <tr>\n",
       "      <th>4175</th>\n",
       "      <td>M</td>\n",
       "      <td>0.590</td>\n",
       "      <td>0.440</td>\n",
       "      <td>0.135</td>\n",
       "      <td>0.9660</td>\n",
       "      <td>0.4390</td>\n",
       "      <td>0.2145</td>\n",
       "      <td>0.2605</td>\n",
       "      <td>10.0</td>\n",
       "    </tr>\n",
       "    <tr>\n",
       "      <th>4176</th>\n",
       "      <td>M</td>\n",
       "      <td>0.600</td>\n",
       "      <td>0.475</td>\n",
       "      <td>0.205</td>\n",
       "      <td>1.1760</td>\n",
       "      <td>0.5255</td>\n",
       "      <td>0.2875</td>\n",
       "      <td>0.3080</td>\n",
       "      <td>9.0</td>\n",
       "    </tr>\n",
       "    <tr>\n",
       "      <th>4177</th>\n",
       "      <td>F</td>\n",
       "      <td>0.625</td>\n",
       "      <td>0.485</td>\n",
       "      <td>0.150</td>\n",
       "      <td>1.0945</td>\n",
       "      <td>0.5310</td>\n",
       "      <td>0.2610</td>\n",
       "      <td>0.2960</td>\n",
       "      <td>10.0</td>\n",
       "    </tr>\n",
       "    <tr>\n",
       "      <th>4178</th>\n",
       "      <td>M</td>\n",
       "      <td>0.710</td>\n",
       "      <td>0.555</td>\n",
       "      <td>0.195</td>\n",
       "      <td>1.9485</td>\n",
       "      <td>0.9455</td>\n",
       "      <td>0.3765</td>\n",
       "      <td>0.4950</td>\n",
       "      <td>12.0</td>\n",
       "    </tr>\n",
       "  </tbody>\n",
       "</table>\n",
       "<p>4177 rows × 9 columns</p>\n",
       "</div>"
      ],
      "text/plain": [
       "     Sex  Length  Diameter  Height      WW      SW      VW    SW.1  Rings\n",
       "2      M   0.455     0.365   0.095  0.5140  0.2245  0.1010  0.1500   15.0\n",
       "3      M   0.350     0.265   0.090  0.2255  0.0995  0.0485  0.0700    7.0\n",
       "4      F   0.530     0.420   0.135  0.6770  0.2565  0.1415  0.2100    9.0\n",
       "5      M   0.440     0.365   0.125  0.5160  0.2155  0.1140  0.1550   10.0\n",
       "6      I   0.330     0.255   0.080  0.2050  0.0895  0.0395  0.0550    7.0\n",
       "...   ..     ...       ...     ...     ...     ...     ...     ...    ...\n",
       "4174   F   0.565     0.450   0.165  0.8870  0.3700  0.2390  0.2490   11.0\n",
       "4175   M   0.590     0.440   0.135  0.9660  0.4390  0.2145  0.2605   10.0\n",
       "4176   M   0.600     0.475   0.205  1.1760  0.5255  0.2875  0.3080    9.0\n",
       "4177   F   0.625     0.485   0.150  1.0945  0.5310  0.2610  0.2960   10.0\n",
       "4178   M   0.710     0.555   0.195  1.9485  0.9455  0.3765  0.4950   12.0\n",
       "\n",
       "[4177 rows x 9 columns]"
      ]
     },
     "execution_count": 2,
     "metadata": {},
     "output_type": "execute_result"
    }
   ],
   "source": [
    "import induceC45\n",
    "import time\n",
    "import Classifier\n",
    "\n",
    "df, attr = induceC45.csv_to_df('./data/abalone.csv')\n",
    "\n",
    "df # contains our data"
   ]
  },
  {
   "cell_type": "markdown",
   "id": "b2f5d6cb",
   "metadata": {},
   "source": [
    "### Initializing a remote function\n",
    "We must declare a remote function to assist ray with parallelization. The functions below allow parallel and nonparallel generation of decision trees.\n",
    "\n",
    "rf_parallel and rf_nonparallel both take in a number of trees and generates a forest -- one in parallel and one not."
   ]
  },
  {
   "cell_type": "code",
   "execution_count": 3,
   "id": "bcb740f5",
   "metadata": {},
   "outputs": [],
   "source": [
    "@ray.remote\n",
    "def c45_wrapper():\n",
    "    return induceC45.c45(df, attr, 0.3, True, './data/abalone.csv')\n",
    "\n",
    "def rf_parallel(trees):\n",
    "    begin = time.perf_counter()\n",
    "    forest = ray.get([c45_wrapper.remote() for i in range(trees)])\n",
    "    end = time.perf_counter()\n",
    "    return forest, end - begin\n",
    "\n",
    "def rf_nonparallel(trees):\n",
    "    begin = time.perf_counter()\n",
    "    forest = [(induceC45.c45(df, attr, 0.3, True, './data/abalone.csv')) for i in range(trees)]\n",
    "    end = time.perf_counter()\n",
    "    return forest, end - begin"
   ]
  },
  {
   "cell_type": "markdown",
   "id": "b0eb90a5",
   "metadata": {},
   "source": [
    "We can generate 1 tree in a nonparallel environment and determine the time taken."
   ]
  },
  {
   "cell_type": "code",
   "execution_count": null,
   "id": "a856c735",
   "metadata": {},
   "outputs": [],
   "source": [
    "forest_nonparallel, time_nonparallel = rf_nonparallel(1)\n",
    "time_nonparallel"
   ]
  },
  {
   "cell_type": "markdown",
   "id": "2a0c9d79",
   "metadata": {},
   "source": [
    "Below is a function wrapper that displays timing results for generating a forest in either environment"
   ]
  },
  {
   "cell_type": "code",
   "execution_count": 4,
   "id": "d2f1352c",
   "metadata": {},
   "outputs": [],
   "source": [
    "def test(num_trees, parallel=True):\n",
    "    if parallel:\n",
    "        forest, time = rf_parallel(num_trees)\n",
    "    else:\n",
    "        forest, time = rf_nonparallel(num_trees)\n",
    "    print(f\"{'Parallel' if parallel else 'Nonparallel'} timing results for {num_trees} trees: {time}\")\n",
    "    return forest, time\n",
    "    "
   ]
  },
  {
   "cell_type": "code",
   "execution_count": 9,
   "id": "f2d80101",
   "metadata": {
    "scrolled": true
   },
   "outputs": [
    {
     "name": "stdout",
     "output_type": "stream",
     "text": [
      "Parallel timing results for 1 trees: 25.56762554200003\n"
     ]
    },
    {
     "data": {
      "text/plain": [
       "([{'dataset': './data/abalone.csv',\n",
       "   'node': {'var': 'SW.1',\n",
       "    'edges': [{'edge': {'value': 0.144,\n",
       "       'direction': 'le',\n",
       "       'node': {'var': 'Diameter',\n",
       "        'edges': [{'edge': {'value': 0.22,\n",
       "           'direction': 'le',\n",
       "           'node': {'var': 'SW.1',\n",
       "            'edges': [{'edge': {'value': 0.0215,\n",
       "               'direction': 'le',\n",
       "               'leaf': {'decision': 4.0, 'p': 0.4479166666666667}}},\n",
       "             {'edge': {'value': 0.0215,\n",
       "               'direction': 'gt',\n",
       "               'leaf': {'decision': 5.0, 'p': 0.4146341463414634}}}]}}},\n",
       "         {'edge': {'value': 0.22,\n",
       "           'direction': 'gt',\n",
       "           'leaf': {'decision': 7.0, 'p': 0.2991718426501035}}}]}}},\n",
       "     {'edge': {'value': 0.144,\n",
       "       'direction': 'gt',\n",
       "       'leaf': {'decision': 9.0, 'p': 0.19385026737967914}}}]}}],\n",
       " 25.56762554200003)"
      ]
     },
     "execution_count": 9,
     "metadata": {},
     "output_type": "execute_result"
    }
   ],
   "source": [
    "test(1)"
   ]
  },
  {
   "cell_type": "code",
   "execution_count": 4,
   "id": "1cad2af5",
   "metadata": {},
   "outputs": [],
   "source": [
    "@ray.remote\n",
    "def classify(tree, data):\n",
    "    return Classifier.bfs(data, tree)\n",
    "\n",
    "def rf_classification_parallel(forest, df):\n",
    "    begin = time.perf_counter()\n",
    "    for index, row in df.iterrows():\n",
    "        pred = ray.get([classify.remote(x, row) for x in forest])\n",
    "    end = time.perf_counter()\n",
    "    return end - begin\n",
    "\n",
    "def rf_classification_nonparallel(forest, data):\n",
    "    begin = time.perf_counter()\n",
    "    predictions = []\n",
    "    for index, row in data.iterrows():\n",
    "        for tree in forest:\n",
    "            predictions.append(Classifier.bfs(row, tree))\n",
    "    end = time.perf_counter()\n",
    "    return end - begin\n"
   ]
  },
  {
   "cell_type": "markdown",
   "id": "8381ebef",
   "metadata": {},
   "source": [
    "### Notes before we begin data classification experiments\n",
    "\n",
    "Below, we will generate a random forest (in parallel) and classify our dataset against the classifier.\n",
    "In practice, you do not want to test your classifier against the data it trained with. However, we are not\n",
    "concerned with the accuracy of our classifier; rather we care about the time it takes to classify the data\n",
    "within.\n",
    "\n",
    "First, lets generate our forest."
   ]
  },
  {
   "cell_type": "code",
   "execution_count": 8,
   "id": "c60fdf31",
   "metadata": {},
   "outputs": [],
   "source": [
    "forest = rf_parallel(100)\n"
   ]
  },
  {
   "cell_type": "code",
   "execution_count": 27,
   "id": "bbdef055",
   "metadata": {},
   "outputs": [],
   "source": [
    "ray.shutdown()"
   ]
  },
  {
   "cell_type": "code",
   "execution_count": 25,
   "id": "f83c37ce",
   "metadata": {},
   "outputs": [
    {
     "name": "stdout",
     "output_type": "stream",
     "text": [
      "\u001b[2m\u001b[36m(classify pid=773)\u001b[0m \n"
     ]
    }
   ],
   "source": [
    "t_classify = rf_classification_parallel(forest[0][:5], df)"
   ]
  },
  {
   "cell_type": "code",
   "execution_count": 24,
   "id": "7bdec913",
   "metadata": {
    "scrolled": true
   },
   "outputs": [
    {
     "data": {
      "text/plain": [
       "2.1994371030000366"
      ]
     },
     "execution_count": 24,
     "metadata": {},
     "output_type": "execute_result"
    }
   ],
   "source": [
    "t_classify"
   ]
  },
  {
   "cell_type": "code",
   "execution_count": 20,
   "id": "53dfabb9",
   "metadata": {},
   "outputs": [
    {
     "name": "stdout",
     "output_type": "stream",
     "text": [
      "[{'dataset': './data/abalone.csv', 'node': {'var': 'SW.1', 'edges': [{'edge': {'value': 0.144, 'direction': 'le', 'node': {'var': 'Diameter', 'edges': [{'edge': {'value': 0.22, 'direction': 'le', 'node': {'var': 'SW.1', 'edges': [{'edge': {'value': 0.0215, 'direction': 'le', 'leaf': {'decision': 4.0, 'p': 0.4479166666666667}}}, {'edge': {'value': 0.0215, 'direction': 'gt', 'leaf': {'decision': 5.0, 'p': 0.4146341463414634}}}]}}}, {'edge': {'value': 0.22, 'direction': 'gt', 'leaf': {'decision': 7.0, 'p': 0.2991718426501035}}}]}}}, {'edge': {'value': 0.144, 'direction': 'gt', 'leaf': {'decision': 9.0, 'p': 0.19385026737967914}}}]}}, {'dataset': './data/abalone.csv', 'node': {'var': 'SW.1', 'edges': [{'edge': {'value': 0.144, 'direction': 'le', 'node': {'var': 'Diameter', 'edges': [{'edge': {'value': 0.22, 'direction': 'le', 'node': {'var': 'SW.1', 'edges': [{'edge': {'value': 0.0215, 'direction': 'le', 'leaf': {'decision': 4.0, 'p': 0.4479166666666667}}}, {'edge': {'value': 0.0215, 'direction': 'gt', 'leaf': {'decision': 5.0, 'p': 0.4146341463414634}}}]}}}, {'edge': {'value': 0.22, 'direction': 'gt', 'leaf': {'decision': 7.0, 'p': 0.2991718426501035}}}]}}}, {'edge': {'value': 0.144, 'direction': 'gt', 'leaf': {'decision': 9.0, 'p': 0.19385026737967914}}}]}}, {'dataset': './data/abalone.csv', 'node': {'var': 'SW.1', 'edges': [{'edge': {'value': 0.144, 'direction': 'le', 'node': {'var': 'Diameter', 'edges': [{'edge': {'value': 0.22, 'direction': 'le', 'node': {'var': 'SW.1', 'edges': [{'edge': {'value': 0.0215, 'direction': 'le', 'leaf': {'decision': 4.0, 'p': 0.4479166666666667}}}, {'edge': {'value': 0.0215, 'direction': 'gt', 'leaf': {'decision': 5.0, 'p': 0.4146341463414634}}}]}}}, {'edge': {'value': 0.22, 'direction': 'gt', 'leaf': {'decision': 7.0, 'p': 0.2991718426501035}}}]}}}, {'edge': {'value': 0.144, 'direction': 'gt', 'leaf': {'decision': 9.0, 'p': 0.19385026737967914}}}]}}, {'dataset': './data/abalone.csv', 'node': {'var': 'SW.1', 'edges': [{'edge': {'value': 0.144, 'direction': 'le', 'node': {'var': 'Diameter', 'edges': [{'edge': {'value': 0.22, 'direction': 'le', 'node': {'var': 'SW.1', 'edges': [{'edge': {'value': 0.0215, 'direction': 'le', 'leaf': {'decision': 4.0, 'p': 0.4479166666666667}}}, {'edge': {'value': 0.0215, 'direction': 'gt', 'leaf': {'decision': 5.0, 'p': 0.4146341463414634}}}]}}}, {'edge': {'value': 0.22, 'direction': 'gt', 'leaf': {'decision': 7.0, 'p': 0.2991718426501035}}}]}}}, {'edge': {'value': 0.144, 'direction': 'gt', 'leaf': {'decision': 9.0, 'p': 0.19385026737967914}}}]}}, {'dataset': './data/abalone.csv', 'node': {'var': 'SW.1', 'edges': [{'edge': {'value': 0.144, 'direction': 'le', 'node': {'var': 'Diameter', 'edges': [{'edge': {'value': 0.22, 'direction': 'le', 'node': {'var': 'SW.1', 'edges': [{'edge': {'value': 0.0215, 'direction': 'le', 'leaf': {'decision': 4.0, 'p': 0.4479166666666667}}}, {'edge': {'value': 0.0215, 'direction': 'gt', 'leaf': {'decision': 5.0, 'p': 0.4146341463414634}}}]}}}, {'edge': {'value': 0.22, 'direction': 'gt', 'leaf': {'decision': 7.0, 'p': 0.2991718426501035}}}]}}}, {'edge': {'value': 0.144, 'direction': 'gt', 'leaf': {'decision': 9.0, 'p': 0.19385026737967914}}}]}}, {'dataset': './data/abalone.csv', 'node': {'var': 'SW.1', 'edges': [{'edge': {'value': 0.144, 'direction': 'le', 'node': {'var': 'Diameter', 'edges': [{'edge': {'value': 0.22, 'direction': 'le', 'node': {'var': 'SW.1', 'edges': [{'edge': {'value': 0.0215, 'direction': 'le', 'leaf': {'decision': 4.0, 'p': 0.4479166666666667}}}, {'edge': {'value': 0.0215, 'direction': 'gt', 'leaf': {'decision': 5.0, 'p': 0.4146341463414634}}}]}}}, {'edge': {'value': 0.22, 'direction': 'gt', 'leaf': {'decision': 7.0, 'p': 0.2991718426501035}}}]}}}, {'edge': {'value': 0.144, 'direction': 'gt', 'leaf': {'decision': 9.0, 'p': 0.19385026737967914}}}]}}, {'dataset': './data/abalone.csv', 'node': {'var': 'SW.1', 'edges': [{'edge': {'value': 0.144, 'direction': 'le', 'node': {'var': 'Diameter', 'edges': [{'edge': {'value': 0.22, 'direction': 'le', 'node': {'var': 'SW.1', 'edges': [{'edge': {'value': 0.0215, 'direction': 'le', 'leaf': {'decision': 4.0, 'p': 0.4479166666666667}}}, {'edge': {'value': 0.0215, 'direction': 'gt', 'leaf': {'decision': 5.0, 'p': 0.4146341463414634}}}]}}}, {'edge': {'value': 0.22, 'direction': 'gt', 'leaf': {'decision': 7.0, 'p': 0.2991718426501035}}}]}}}, {'edge': {'value': 0.144, 'direction': 'gt', 'leaf': {'decision': 9.0, 'p': 0.19385026737967914}}}]}}, {'dataset': './data/abalone.csv', 'node': {'var': 'SW.1', 'edges': [{'edge': {'value': 0.144, 'direction': 'le', 'node': {'var': 'Diameter', 'edges': [{'edge': {'value': 0.22, 'direction': 'le', 'node': {'var': 'SW.1', 'edges': [{'edge': {'value': 0.0215, 'direction': 'le', 'leaf': {'decision': 4.0, 'p': 0.4479166666666667}}}, {'edge': {'value': 0.0215, 'direction': 'gt', 'leaf': {'decision': 5.0, 'p': 0.4146341463414634}}}]}}}, {'edge': {'value': 0.22, 'direction': 'gt', 'leaf': {'decision': 7.0, 'p': 0.2991718426501035}}}]}}}, {'edge': {'value': 0.144, 'direction': 'gt', 'leaf': {'decision': 9.0, 'p': 0.19385026737967914}}}]}}, {'dataset': './data/abalone.csv', 'node': {'var': 'SW.1', 'edges': [{'edge': {'value': 0.144, 'direction': 'le', 'node': {'var': 'Diameter', 'edges': [{'edge': {'value': 0.22, 'direction': 'le', 'node': {'var': 'SW.1', 'edges': [{'edge': {'value': 0.0215, 'direction': 'le', 'leaf': {'decision': 4.0, 'p': 0.4479166666666667}}}, {'edge': {'value': 0.0215, 'direction': 'gt', 'leaf': {'decision': 5.0, 'p': 0.4146341463414634}}}]}}}, {'edge': {'value': 0.22, 'direction': 'gt', 'leaf': {'decision': 7.0, 'p': 0.2991718426501035}}}]}}}, {'edge': {'value': 0.144, 'direction': 'gt', 'leaf': {'decision': 9.0, 'p': 0.19385026737967914}}}]}}, {'dataset': './data/abalone.csv', 'node': {'var': 'SW.1', 'edges': [{'edge': {'value': 0.144, 'direction': 'le', 'node': {'var': 'Diameter', 'edges': [{'edge': {'value': 0.22, 'direction': 'le', 'node': {'var': 'SW.1', 'edges': [{'edge': {'value': 0.0215, 'direction': 'le', 'leaf': {'decision': 4.0, 'p': 0.4479166666666667}}}, {'edge': {'value': 0.0215, 'direction': 'gt', 'leaf': {'decision': 5.0, 'p': 0.4146341463414634}}}]}}}, {'edge': {'value': 0.22, 'direction': 'gt', 'leaf': {'decision': 7.0, 'p': 0.2991718426501035}}}]}}}, {'edge': {'value': 0.144, 'direction': 'gt', 'leaf': {'decision': 9.0, 'p': 0.19385026737967914}}}]}}]\n"
     ]
    }
   ],
   "source": [
    "print(forest[0][:10])"
   ]
  },
  {
   "cell_type": "code",
   "execution_count": null,
   "id": "dda71952",
   "metadata": {},
   "outputs": [],
   "source": []
  }
 ],
 "metadata": {
  "kernelspec": {
   "display_name": "Python 3",
   "language": "python",
   "name": "python3"
  },
  "language_info": {
   "codemirror_mode": {
    "name": "ipython",
    "version": 3
   },
   "file_extension": ".py",
   "mimetype": "text/x-python",
   "name": "python",
   "nbconvert_exporter": "python",
   "pygments_lexer": "ipython3",
   "version": "3.8.8"
  }
 },
 "nbformat": 4,
 "nbformat_minor": 5
}
